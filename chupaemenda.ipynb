{
 "cells": [
  {
   "cell_type": "code",
   "execution_count": 21,
   "metadata": {
    "collapsed": true
   },
   "outputs": [],
   "source": [
    "from urllib.request import urlopen"
   ]
  },
  {
   "cell_type": "code",
   "execution_count": 22,
   "metadata": {
    "collapsed": true
   },
   "outputs": [],
   "source": [
    "from bs4 import BeautifulSoup"
   ]
  },
  {
   "cell_type": "code",
   "execution_count": 23,
   "metadata": {
    "collapsed": true
   },
   "outputs": [],
   "source": [
    "import urllib.request, urllib.parse, urllib.error"
   ]
  },
  {
   "cell_type": "code",
   "execution_count": 24,
   "metadata": {
    "collapsed": true
   },
   "outputs": [],
   "source": [
    "from pdfminer.pdfparser import PDFParser"
   ]
  },
  {
   "cell_type": "code",
   "execution_count": 25,
   "metadata": {
    "collapsed": true
   },
   "outputs": [],
   "source": [
    "from pdfminer.pdfdocument import PDFDocument"
   ]
  },
  {
   "cell_type": "code",
   "execution_count": 26,
   "metadata": {
    "collapsed": true
   },
   "outputs": [],
   "source": [
    "import sys"
   ]
  },
  {
   "cell_type": "code",
   "execution_count": 27,
   "metadata": {
    "collapsed": true
   },
   "outputs": [],
   "source": [
    "import cchardet"
   ]
  },
  {
   "cell_type": "code",
   "execution_count": 1,
   "metadata": {
    "collapsed": true
   },
   "outputs": [],
   "source": [
    "import csv"
   ]
  },
  {
   "cell_type": "code",
   "execution_count": 2,
   "metadata": {
    "collapsed": true
   },
   "outputs": [],
   "source": [
    "import pandas as pd"
   ]
  },
  {
   "cell_type": "code",
   "execution_count": null,
   "metadata": {
    "collapsed": true
   },
   "outputs": [],
   "source": []
  },
  {
   "cell_type": "code",
   "execution_count": 6,
   "metadata": {
    "collapsed": true
   },
   "outputs": [],
   "source": [
    "# Lista de links com os PDFs"
   ]
  },
  {
   "cell_type": "code",
   "execution_count": 30,
   "metadata": {
    "collapsed": true
   },
   "outputs": [],
   "source": [
    "emendas = urlopen(\"http://www.camara.gov.br/proposicoesWeb/prop_emendas?idProposicao=2122076&subst=0\")"
   ]
  },
  {
   "cell_type": "code",
   "execution_count": 31,
   "metadata": {
    "collapsed": true
   },
   "outputs": [],
   "source": [
    "bsObje =  BeautifulSoup(emendas, \"lxml\")"
   ]
  },
  {
   "cell_type": "code",
   "execution_count": 32,
   "metadata": {
    "collapsed": true
   },
   "outputs": [],
   "source": [
    "pdfs = bsObje.findAll(\"a\", {\"class\":\"rightIconified iconDetalhe linkDownloadTeor\"})"
   ]
  },
  {
   "cell_type": "code",
   "execution_count": null,
   "metadata": {
    "collapsed": true
   },
   "outputs": [],
   "source": []
  },
  {
   "cell_type": "code",
   "execution_count": 33,
   "metadata": {
    "collapsed": true
   },
   "outputs": [],
   "source": [
    "# Lista dos nomes de deputados"
   ]
  },
  {
   "cell_type": "code",
   "execution_count": 34,
   "metadata": {
    "collapsed": true
   },
   "outputs": [],
   "source": [
    "req = urlopen('http://www.camara.gov.br/proposicoesWeb/prop_emendas?idProposicao=2122076&subst=0')\n",
    "soup = BeautifulSoup(req.read(), 'html.parser')\n",
    "\n",
    "tables_ele = soup.findAll('tbody', {'class': 'coresAlternadas'})\n",
    "deputados = []\n",
    "for table_ele in tables_ele:\n",
    "    for row in table_ele.findAll('tr'):\n",
    "        cols = row.findAll('td')\n",
    "        deputados.append(cols[3].text.strip())\n",
    "\n",
    "conta = 0"
   ]
  },
  {
   "cell_type": "code",
   "execution_count": null,
   "metadata": {
    "collapsed": true
   },
   "outputs": [],
   "source": []
  },
  {
   "cell_type": "code",
   "execution_count": 35,
   "metadata": {
    "collapsed": true
   },
   "outputs": [],
   "source": [
    "# Cria repositório final e cabeçalho"
   ]
  },
  {
   "cell_type": "code",
   "execution_count": 36,
   "metadata": {
    "collapsed": true
   },
   "outputs": [],
   "source": [
    "tabela_final = []"
   ]
  },
  {
   "cell_type": "code",
   "execution_count": 37,
   "metadata": {
    "collapsed": true
   },
   "outputs": [],
   "source": [
    "tabela_final.append([\"Arquivo\", \"Deputado\", \"Autor\", \"Assunto\", \"Data_Criacao\", \"Data_Moficacao\"])"
   ]
  },
  {
   "cell_type": "code",
   "execution_count": null,
   "metadata": {
    "collapsed": true
   },
   "outputs": [],
   "source": []
  },
  {
   "cell_type": "code",
   "execution_count": 38,
   "metadata": {
    "collapsed": true
   },
   "outputs": [],
   "source": [
    "# Função para testar codecs\n",
    "def str_decode(str):\n",
    "    if str == None:\n",
    "        return str\n",
    "    else: \n",
    "        # Verifica qual o codec do sistema atual (codec \"padrão\")\n",
    "        defaultcodec = sys.getdefaultencoding().lower()\n",
    "\n",
    "        codec = cchardet.detect(str)['encoding']\n",
    "\n",
    "        if (defaultcodec != codec.lower()):\n",
    "            return str.decode(codec) # Se o codec for diferente do sistema atual então decodifica\n",
    "        else:\n",
    "            return str # Se o codec for o do sistema atual então mantêm \n",
    "\n",
    "# Iteração com os links de PDFs\n",
    "for name in pdfs:\n",
    "    # Cria url\n",
    "    url = name.get('href')\n",
    "    url = \"http://www.camara.gov.br/proposicoesWeb/\" + url\n",
    "    \n",
    "    # Limpeza para acesso\n",
    "    posicao = url.find('filename=') + 9\n",
    "    arquivo = (url[posicao:])\n",
    "    arquivo = arquivo.replace('+', ' ')\n",
    "    arquivo = arquivo.replace('/', '-')\n",
    "    arquivo = arquivo.replace('%3D%3E', '=-')\n",
    "    arquivo = arquivo + \".pdf\"\n",
    "    \n",
    "    # Baixa o arquivo\n",
    "    urllib.request.urlretrieve(url, arquivo)\n",
    "    \n",
    "    # Extrai metadados\n",
    "    fp = open(arquivo, 'rb')\n",
    "    parser = PDFParser(fp)\n",
    "    doc = PDFDocument(parser)\n",
    "    dados_recuperados = doc.info[0]\n",
    "    \n",
    "    # Testa e grava campos \n",
    "    author = str_decode(dados_recuperados.get(\"Author\"))\n",
    "    subject = str_decode(dados_recuperados.get(\"Subject\"))\n",
    "    creation_date = str_decode(dados_recuperados.get(\"CreationDate\"))\n",
    "    mod_date = str_decode(dados_recuperados.get(\"ModDate\"))\n",
    "    nome_deputado = deputados[conta]\n",
    "    conta = conta + 1\n",
    "    \n",
    "    # Grava uma linha completa\n",
    "    tabela_final.append([arquivo, nome_deputado, author, subject, creation_date, mod_date])"
   ]
  },
  {
   "cell_type": "code",
   "execution_count": null,
   "metadata": {
    "collapsed": true
   },
   "outputs": [],
   "source": []
  },
  {
   "cell_type": "code",
   "execution_count": 39,
   "metadata": {
    "collapsed": true
   },
   "outputs": [],
   "source": [
    "# Grava o CSV\n",
    "header = True\n",
    "# Abre um arquivo no computador e o prepara para gravação\n",
    "with open('emendas_autores.csv', 'a') as f:\n",
    "    # usa a ferramenta \"writer\" do módulo csv\n",
    "    writer = csv.writer(f)\n",
    "    # se precisarmos gravar o cabeçalho...\n",
    "    if header is True:\n",
    "        # gravamos o cabeçalho\n",
    "        writer.writerow(tabela_final[0])\n",
    "        # marcamos que não é mais preciso gravar o cabeçalho\n",
    "        header = False\n",
    "    # gravamos o restante das linhas no CSV\n",
    "    writer.writerows(tabela_final[1:])"
   ]
  },
  {
   "cell_type": "code",
   "execution_count": null,
   "metadata": {
    "collapsed": true
   },
   "outputs": [],
   "source": []
  },
  {
   "cell_type": "code",
   "execution_count": 48,
   "metadata": {
    "collapsed": true
   },
   "outputs": [],
   "source": [
    "# Lê o arquivo CSV"
   ]
  },
  {
   "cell_type": "code",
   "execution_count": 3,
   "metadata": {
    "collapsed": true
   },
   "outputs": [],
   "source": [
    "emd = pd.read_csv(\"emendas_autores.csv\", sep = ',', encoding = 'latin_1')"
   ]
  },
  {
   "cell_type": "code",
   "execution_count": 42,
   "metadata": {
    "scrolled": false
   },
   "outputs": [
    {
     "name": "stdout",
     "output_type": "stream",
     "text": [
      "<class 'pandas.core.frame.DataFrame'>\n",
      "RangeIndex: 1340 entries, 0 to 1339\n",
      "Data columns (total 6 columns):\n",
      "Arquivo           1340 non-null object\n",
      "Deputado          1340 non-null object\n",
      "Autor             1282 non-null object\n",
      "Assunto           220 non-null object\n",
      "Data_Criacao      1340 non-null object\n",
      "Data_Moficacao    1307 non-null object\n",
      "dtypes: object(6)\n",
      "memory usage: 31.4+ KB\n"
     ]
    }
   ],
   "source": [
    "emd.info()"
   ]
  },
  {
   "cell_type": "code",
   "execution_count": null,
   "metadata": {
    "collapsed": true
   },
   "outputs": [],
   "source": []
  },
  {
   "cell_type": "code",
   "execution_count": 45,
   "metadata": {
    "collapsed": true
   },
   "outputs": [],
   "source": [
    "### Mostra as linhas finais e iniciais para teste"
   ]
  },
  {
   "cell_type": "code",
   "execution_count": 46,
   "metadata": {},
   "outputs": [
    {
     "data": {
      "text/html": [
       "<div>\n",
       "<style>\n",
       "    .dataframe thead tr:only-child th {\n",
       "        text-align: right;\n",
       "    }\n",
       "\n",
       "    .dataframe thead th {\n",
       "        text-align: left;\n",
       "    }\n",
       "\n",
       "    .dataframe tbody tr th {\n",
       "        vertical-align: top;\n",
       "    }\n",
       "</style>\n",
       "<table border=\"1\" class=\"dataframe\">\n",
       "  <thead>\n",
       "    <tr style=\"text-align: right;\">\n",
       "      <th></th>\n",
       "      <th>index</th>\n",
       "      <th>Arquivo</th>\n",
       "      <th>Deputado</th>\n",
       "      <th>Autor</th>\n",
       "      <th>Assunto</th>\n",
       "      <th>Data_Criacao</th>\n",
       "      <th>Data_Moficacao</th>\n",
       "    </tr>\n",
       "  </thead>\n",
       "  <tbody>\n",
       "    <tr>\n",
       "      <th>0</th>\n",
       "      <td>1335</td>\n",
       "      <td>EMP 28-2017 =- PL 6787-2016.pdf</td>\n",
       "      <td>Bebeto</td>\n",
       "      <td>NaN</td>\n",
       "      <td>NaN</td>\n",
       "      <td>D:20000101100657-03'00'</td>\n",
       "      <td>NaN</td>\n",
       "    </tr>\n",
       "    <tr>\n",
       "      <th>1</th>\n",
       "      <td>1336</td>\n",
       "      <td>EMP 29-2017 =- PL 6787-2016.pdf</td>\n",
       "      <td>Bebeto</td>\n",
       "      <td>NaN</td>\n",
       "      <td>NaN</td>\n",
       "      <td>D:20000101100710-03'00'</td>\n",
       "      <td>NaN</td>\n",
       "    </tr>\n",
       "    <tr>\n",
       "      <th>2</th>\n",
       "      <td>1337</td>\n",
       "      <td>EMP 30-2017 =- PL 6787-2016.pdf</td>\n",
       "      <td>Paulo Pereira da Silva</td>\n",
       "      <td>NaN</td>\n",
       "      <td>NaN</td>\n",
       "      <td>D:20000101083124-03'00'</td>\n",
       "      <td>NaN</td>\n",
       "    </tr>\n",
       "    <tr>\n",
       "      <th>3</th>\n",
       "      <td>1338</td>\n",
       "      <td>EMP 31-2017 =- PL 6787-2016.pdf</td>\n",
       "      <td>Renata Abreu</td>\n",
       "      <td>NaN</td>\n",
       "      <td>NaN</td>\n",
       "      <td>D:20000101090357-03'00'</td>\n",
       "      <td>NaN</td>\n",
       "    </tr>\n",
       "    <tr>\n",
       "      <th>4</th>\n",
       "      <td>1339</td>\n",
       "      <td>EMP 32-2017 =- PL 6787-2016.pdf</td>\n",
       "      <td>Evandro Gussi</td>\n",
       "      <td>NaN</td>\n",
       "      <td>NaN</td>\n",
       "      <td>D:20000101092046-03'00'</td>\n",
       "      <td>NaN</td>\n",
       "    </tr>\n",
       "  </tbody>\n",
       "</table>\n",
       "</div>"
      ],
      "text/plain": [
       "   index                          Arquivo                Deputado Autor  \\\n",
       "0   1335  EMP 28-2017 =- PL 6787-2016.pdf                  Bebeto   NaN   \n",
       "1   1336  EMP 29-2017 =- PL 6787-2016.pdf                  Bebeto   NaN   \n",
       "2   1337  EMP 30-2017 =- PL 6787-2016.pdf  Paulo Pereira da Silva   NaN   \n",
       "3   1338  EMP 31-2017 =- PL 6787-2016.pdf            Renata Abreu   NaN   \n",
       "4   1339  EMP 32-2017 =- PL 6787-2016.pdf           Evandro Gussi   NaN   \n",
       "\n",
       "  Assunto             Data_Criacao Data_Moficacao  \n",
       "0     NaN  D:20000101100657-03'00'            NaN  \n",
       "1     NaN  D:20000101100710-03'00'            NaN  \n",
       "2     NaN  D:20000101083124-03'00'            NaN  \n",
       "3     NaN  D:20000101090357-03'00'            NaN  \n",
       "4     NaN  D:20000101092046-03'00'            NaN  "
      ]
     },
     "execution_count": 46,
     "metadata": {},
     "output_type": "execute_result"
    }
   ],
   "source": [
    "emd.tail().reset_index()"
   ]
  },
  {
   "cell_type": "code",
   "execution_count": 47,
   "metadata": {},
   "outputs": [
    {
     "data": {
      "text/html": [
       "<div>\n",
       "<style>\n",
       "    .dataframe thead tr:only-child th {\n",
       "        text-align: right;\n",
       "    }\n",
       "\n",
       "    .dataframe thead th {\n",
       "        text-align: left;\n",
       "    }\n",
       "\n",
       "    .dataframe tbody tr th {\n",
       "        vertical-align: top;\n",
       "    }\n",
       "</style>\n",
       "<table border=\"1\" class=\"dataframe\">\n",
       "  <thead>\n",
       "    <tr style=\"text-align: right;\">\n",
       "      <th></th>\n",
       "      <th>index</th>\n",
       "      <th>Arquivo</th>\n",
       "      <th>Deputado</th>\n",
       "      <th>Autor</th>\n",
       "      <th>Assunto</th>\n",
       "      <th>Data_Criacao</th>\n",
       "      <th>Data_Moficacao</th>\n",
       "    </tr>\n",
       "  </thead>\n",
       "  <tbody>\n",
       "    <tr>\n",
       "      <th>0</th>\n",
       "      <td>0</td>\n",
       "      <td>EMC 1-2017 PL678716 =- PL 6787-2016.pdf</td>\n",
       "      <td>Laura Carneiro</td>\n",
       "      <td>Ivanete de Araujo Costa</td>\n",
       "      <td>EMD ADI - Emenda Aditiva</td>\n",
       "      <td>D:20170314114321-07'00'</td>\n",
       "      <td>D:20170314114321-07'00'</td>\n",
       "    </tr>\n",
       "    <tr>\n",
       "      <th>1</th>\n",
       "      <td>1</td>\n",
       "      <td>EMC 2-2017 PL678716 =- PL 6787-2016.pdf</td>\n",
       "      <td>Laura Carneiro</td>\n",
       "      <td>Ivanete de Araujo Costa</td>\n",
       "      <td>EMD ADI - Emenda Aditiva</td>\n",
       "      <td>D:20170314114328-07'00'</td>\n",
       "      <td>D:20170314114328-07'00'</td>\n",
       "    </tr>\n",
       "    <tr>\n",
       "      <th>2</th>\n",
       "      <td>2</td>\n",
       "      <td>EMC 3-2017 PL678716 =- PL 6787-2016.pdf</td>\n",
       "      <td>Laura Carneiro</td>\n",
       "      <td>Ivanete de Araujo Costa</td>\n",
       "      <td>EMD ADI - Emenda Aditiva</td>\n",
       "      <td>D:20170314114336-07'00'</td>\n",
       "      <td>D:20170314114336-07'00'</td>\n",
       "    </tr>\n",
       "    <tr>\n",
       "      <th>3</th>\n",
       "      <td>3</td>\n",
       "      <td>EMC 4-2017 PL678716 =- PL 6787-2016.pdf</td>\n",
       "      <td>Laura Carneiro</td>\n",
       "      <td>MOD.CONLE.ST 2130/2017 - P_6736 - Davi Ribeiro...</td>\n",
       "      <td>EMD ADI - Emenda Aditiva</td>\n",
       "      <td>D:20170314114344-07'00'</td>\n",
       "      <td>D:20170314114344-07'00'</td>\n",
       "    </tr>\n",
       "    <tr>\n",
       "      <th>4</th>\n",
       "      <td>4</td>\n",
       "      <td>EMC 5-2017 PL678716 =- PL 6787-2016.pdf</td>\n",
       "      <td>Laura Carneiro</td>\n",
       "      <td>Ivanete de Araujo Costa</td>\n",
       "      <td>EMD ADI - Emenda Aditiva</td>\n",
       "      <td>D:20170314114352-07'00'</td>\n",
       "      <td>D:20170314114352-07'00'</td>\n",
       "    </tr>\n",
       "  </tbody>\n",
       "</table>\n",
       "</div>"
      ],
      "text/plain": [
       "   index                                  Arquivo        Deputado  \\\n",
       "0      0  EMC 1-2017 PL678716 =- PL 6787-2016.pdf  Laura Carneiro   \n",
       "1      1  EMC 2-2017 PL678716 =- PL 6787-2016.pdf  Laura Carneiro   \n",
       "2      2  EMC 3-2017 PL678716 =- PL 6787-2016.pdf  Laura Carneiro   \n",
       "3      3  EMC 4-2017 PL678716 =- PL 6787-2016.pdf  Laura Carneiro   \n",
       "4      4  EMC 5-2017 PL678716 =- PL 6787-2016.pdf  Laura Carneiro   \n",
       "\n",
       "                                               Autor  \\\n",
       "0                            Ivanete de Araujo Costa   \n",
       "1                            Ivanete de Araujo Costa   \n",
       "2                            Ivanete de Araujo Costa   \n",
       "3  MOD.CONLE.ST 2130/2017 - P_6736 - Davi Ribeiro...   \n",
       "4                            Ivanete de Araujo Costa   \n",
       "\n",
       "                    Assunto             Data_Criacao           Data_Moficacao  \n",
       "0  EMD ADI - Emenda Aditiva  D:20170314114321-07'00'  D:20170314114321-07'00'  \n",
       "1  EMD ADI - Emenda Aditiva  D:20170314114328-07'00'  D:20170314114328-07'00'  \n",
       "2  EMD ADI - Emenda Aditiva  D:20170314114336-07'00'  D:20170314114336-07'00'  \n",
       "3  EMD ADI - Emenda Aditiva  D:20170314114344-07'00'  D:20170314114344-07'00'  \n",
       "4  EMD ADI - Emenda Aditiva  D:20170314114352-07'00'  D:20170314114352-07'00'  "
      ]
     },
     "execution_count": 47,
     "metadata": {},
     "output_type": "execute_result"
    }
   ],
   "source": [
    "emd.head().reset_index()"
   ]
  },
  {
   "cell_type": "code",
   "execution_count": null,
   "metadata": {
    "collapsed": true
   },
   "outputs": [],
   "source": []
  },
  {
   "cell_type": "markdown",
   "metadata": {},
   "source": [
    "## Algumas análises"
   ]
  },
  {
   "cell_type": "code",
   "execution_count": null,
   "metadata": {
    "collapsed": true
   },
   "outputs": [],
   "source": []
  },
  {
   "cell_type": "markdown",
   "metadata": {},
   "source": [
    "### A ordem dos autores de emendas em número de redigidas (obs. em algumas esse campo foi deixado em branco)"
   ]
  },
  {
   "cell_type": "code",
   "execution_count": 4,
   "metadata": {},
   "outputs": [
    {
     "data": {
      "text/html": [
       "<div>\n",
       "<style>\n",
       "    .dataframe thead tr:only-child th {\n",
       "        text-align: right;\n",
       "    }\n",
       "\n",
       "    .dataframe thead th {\n",
       "        text-align: left;\n",
       "    }\n",
       "\n",
       "    .dataframe tbody tr th {\n",
       "        vertical-align: top;\n",
       "    }\n",
       "</style>\n",
       "<table border=\"1\" class=\"dataframe\">\n",
       "  <thead>\n",
       "    <tr style=\"text-align: right;\">\n",
       "      <th></th>\n",
       "      <th>index</th>\n",
       "      <th>Autor</th>\n",
       "    </tr>\n",
       "  </thead>\n",
       "  <tbody>\n",
       "    <tr>\n",
       "      <th>0</th>\n",
       "      <td>P_4189</td>\n",
       "      <td>99</td>\n",
       "    </tr>\n",
       "    <tr>\n",
       "      <th>1</th>\n",
       "      <td>Prodasen</td>\n",
       "      <td>98</td>\n",
       "    </tr>\n",
       "    <tr>\n",
       "      <th>2</th>\n",
       "      <td>Ricardo de Saboya Rocha Miranda</td>\n",
       "      <td>88</td>\n",
       "    </tr>\n",
       "    <tr>\n",
       "      <th>3</th>\n",
       "      <td>Ivanete de Araujo Costa</td>\n",
       "      <td>61</td>\n",
       "    </tr>\n",
       "    <tr>\n",
       "      <th>4</th>\n",
       "      <td>Volia Cassar</td>\n",
       "      <td>50</td>\n",
       "    </tr>\n",
       "    <tr>\n",
       "      <th>5</th>\n",
       "      <td>Dep. Jeronimo Goergen</td>\n",
       "      <td>47</td>\n",
       "    </tr>\n",
       "    <tr>\n",
       "      <th>6</th>\n",
       "      <td>MOD.CONLE.ST 2593/2017 - P_5675 - Beatriz Reze...</td>\n",
       "      <td>46</td>\n",
       "    </tr>\n",
       "    <tr>\n",
       "      <th>7</th>\n",
       "      <td>Amanda Galvão Ferreira Tabosa</td>\n",
       "      <td>45</td>\n",
       "    </tr>\n",
       "    <tr>\n",
       "      <th>8</th>\n",
       "      <td>wlamir</td>\n",
       "      <td>38</td>\n",
       "    </tr>\n",
       "    <tr>\n",
       "      <th>9</th>\n",
       "      <td>Angelo Fabiano Farias da Costa</td>\n",
       "      <td>35</td>\n",
       "    </tr>\n",
       "    <tr>\n",
       "      <th>10</th>\n",
       "      <td>Izar</td>\n",
       "      <td>31</td>\n",
       "    </tr>\n",
       "    <tr>\n",
       "      <th>11</th>\n",
       "      <td>P_111067</td>\n",
       "      <td>30</td>\n",
       "    </tr>\n",
       "    <tr>\n",
       "      <th>12</th>\n",
       "      <td>P_6394</td>\n",
       "      <td>27</td>\n",
       "    </tr>\n",
       "    <tr>\n",
       "      <th>13</th>\n",
       "      <td>admin</td>\n",
       "      <td>27</td>\n",
       "    </tr>\n",
       "    <tr>\n",
       "      <th>14</th>\n",
       "      <td>Osmar de Oliveira Aguiar</td>\n",
       "      <td>21</td>\n",
       "    </tr>\n",
       "    <tr>\n",
       "      <th>15</th>\n",
       "      <td>Administrador</td>\n",
       "      <td>20</td>\n",
       "    </tr>\n",
       "    <tr>\n",
       "      <th>16</th>\n",
       "      <td>Evandro Macedo</td>\n",
       "      <td>20</td>\n",
       "    </tr>\n",
       "    <tr>\n",
       "      <th>17</th>\n",
       "      <td>Estelita Gomes</td>\n",
       "      <td>19</td>\n",
       "    </tr>\n",
       "    <tr>\n",
       "      <th>18</th>\n",
       "      <td>P_113101</td>\n",
       "      <td>19</td>\n",
       "    </tr>\n",
       "    <tr>\n",
       "      <th>19</th>\n",
       "      <td>Ricardo</td>\n",
       "      <td>18</td>\n",
       "    </tr>\n",
       "    <tr>\n",
       "      <th>20</th>\n",
       "      <td>Elaine Marinho Faria</td>\n",
       "      <td>16</td>\n",
       "    </tr>\n",
       "    <tr>\n",
       "      <th>21</th>\n",
       "      <td>Iraciara Souza</td>\n",
       "      <td>16</td>\n",
       "    </tr>\n",
       "    <tr>\n",
       "      <th>22</th>\n",
       "      <td>User</td>\n",
       "      <td>16</td>\n",
       "    </tr>\n",
       "    <tr>\n",
       "      <th>23</th>\n",
       "      <td>Adriano Beuren</td>\n",
       "      <td>15</td>\n",
       "    </tr>\n",
       "    <tr>\n",
       "      <th>24</th>\n",
       "      <td>lucas.pereira</td>\n",
       "      <td>14</td>\n",
       "    </tr>\n",
       "    <tr>\n",
       "      <th>25</th>\n",
       "      <td>TST</td>\n",
       "      <td>14</td>\n",
       "    </tr>\n",
       "    <tr>\n",
       "      <th>26</th>\n",
       "      <td>ELIZABETE AUGUSTA</td>\n",
       "      <td>12</td>\n",
       "    </tr>\n",
       "    <tr>\n",
       "      <th>27</th>\n",
       "      <td>Antonio das Dores Pereira da Silva Neto</td>\n",
       "      <td>12</td>\n",
       "    </tr>\n",
       "    <tr>\n",
       "      <th>28</th>\n",
       "      <td>p_ 119554</td>\n",
       "      <td>10</td>\n",
       "    </tr>\n",
       "    <tr>\n",
       "      <th>29</th>\n",
       "      <td>Gildete Menezes | NTC</td>\n",
       "      <td>10</td>\n",
       "    </tr>\n",
       "    <tr>\n",
       "      <th>...</th>\n",
       "      <td>...</td>\n",
       "      <td>...</td>\n",
       "    </tr>\n",
       "    <tr>\n",
       "      <th>142</th>\n",
       "      <td>Lisiane de Alcantara Bastos</td>\n",
       "      <td>1</td>\n",
       "    </tr>\n",
       "    <tr>\n",
       "      <th>143</th>\n",
       "      <td>MOD.CONLE.ST 2457/2017 - P_5040 - Adolfo Costa...</td>\n",
       "      <td>1</td>\n",
       "    </tr>\n",
       "    <tr>\n",
       "      <th>144</th>\n",
       "      <td>Miralda da Conceição dos Santos</td>\n",
       "      <td>1</td>\n",
       "    </tr>\n",
       "    <tr>\n",
       "      <th>145</th>\n",
       "      <td>Diogo</td>\n",
       "      <td>1</td>\n",
       "    </tr>\n",
       "    <tr>\n",
       "      <th>146</th>\n",
       "      <td>Bruno Ávila e Silva Sampaio de Almeida</td>\n",
       "      <td>1</td>\n",
       "    </tr>\n",
       "    <tr>\n",
       "      <th>147</th>\n",
       "      <td>MOD.CONLE.ST 2265/2017 - P_6736 - Davi Ribeiro...</td>\n",
       "      <td>1</td>\n",
       "    </tr>\n",
       "    <tr>\n",
       "      <th>148</th>\n",
       "      <td>Flávia Mundim Moraes Oliveira</td>\n",
       "      <td>1</td>\n",
       "    </tr>\n",
       "    <tr>\n",
       "      <th>149</th>\n",
       "      <td>Andrea Teresa de Oliveira Barbosa</td>\n",
       "      <td>1</td>\n",
       "    </tr>\n",
       "    <tr>\n",
       "      <th>150</th>\n",
       "      <td>MOD.CONLE.ST 2115/2017 - P_5771 - Lisiane de A...</td>\n",
       "      <td>1</td>\n",
       "    </tr>\n",
       "    <tr>\n",
       "      <th>151</th>\n",
       "      <td>MOD.CONLE.ST 2109/2017 - P_5675 - Beatriz Reze...</td>\n",
       "      <td>1</td>\n",
       "    </tr>\n",
       "    <tr>\n",
       "      <th>152</th>\n",
       "      <td>MOD.CONLE.ST 2686/2017 - P_5771 - Lisiane de A...</td>\n",
       "      <td>1</td>\n",
       "    </tr>\n",
       "    <tr>\n",
       "      <th>153</th>\n",
       "      <td>MOD.CONLE.ST 2239/2017 - P_6701 - Ângelo Azeve...</td>\n",
       "      <td>1</td>\n",
       "    </tr>\n",
       "    <tr>\n",
       "      <th>154</th>\n",
       "      <td>Marina Cibele Dias Silverio e Fonseca</td>\n",
       "      <td>1</td>\n",
       "    </tr>\n",
       "    <tr>\n",
       "      <th>155</th>\n",
       "      <td>MOD.CONLE.ST 4995/2017 - P_6736 - Davi Ribeiro...</td>\n",
       "      <td>1</td>\n",
       "    </tr>\n",
       "    <tr>\n",
       "      <th>156</th>\n",
       "      <td>Josué dos Santos Silva</td>\n",
       "      <td>1</td>\n",
       "    </tr>\n",
       "    <tr>\n",
       "      <th>157</th>\n",
       "      <td>Andre Luis De Paula</td>\n",
       "      <td>1</td>\n",
       "    </tr>\n",
       "    <tr>\n",
       "      <th>158</th>\n",
       "      <td>SINDETRANDF</td>\n",
       "      <td>1</td>\n",
       "    </tr>\n",
       "    <tr>\n",
       "      <th>159</th>\n",
       "      <td>Patricia Alves Cabral</td>\n",
       "      <td>1</td>\n",
       "    </tr>\n",
       "    <tr>\n",
       "      <th>160</th>\n",
       "      <td>MOD.CONLE.ST 2491/2017 - P_5675 - Beatriz Reze...</td>\n",
       "      <td>1</td>\n",
       "    </tr>\n",
       "    <tr>\n",
       "      <th>161</th>\n",
       "      <td>Ayres de Almeida Silva Filho</td>\n",
       "      <td>1</td>\n",
       "    </tr>\n",
       "    <tr>\n",
       "      <th>162</th>\n",
       "      <td>Dep. Laura Carneiro</td>\n",
       "      <td>1</td>\n",
       "    </tr>\n",
       "    <tr>\n",
       "      <th>163</th>\n",
       "      <td>MOD.CONLE.ST 3032/2017 - P_5675 - Beatriz Reze...</td>\n",
       "      <td>1</td>\n",
       "    </tr>\n",
       "    <tr>\n",
       "      <th>164</th>\n",
       "      <td>MOD.CONLE.ST 2117/2017 - P_6736 - Davi Ribeiro...</td>\n",
       "      <td>1</td>\n",
       "    </tr>\n",
       "    <tr>\n",
       "      <th>165</th>\n",
       "      <td>Celio</td>\n",
       "      <td>1</td>\n",
       "    </tr>\n",
       "    <tr>\n",
       "      <th>166</th>\n",
       "      <td>MOD.CONLE.ST 2386/2017 - P_5771 - Lisiane de A...</td>\n",
       "      <td>1</td>\n",
       "    </tr>\n",
       "    <tr>\n",
       "      <th>167</th>\n",
       "      <td>Joao Paulo Santos</td>\n",
       "      <td>1</td>\n",
       "    </tr>\n",
       "    <tr>\n",
       "      <th>168</th>\n",
       "      <td>MOD.CONLE.ST 2250/2017 - P_5771 - Lisiane de A...</td>\n",
       "      <td>1</td>\n",
       "    </tr>\n",
       "    <tr>\n",
       "      <th>169</th>\n",
       "      <td>MOD.CONLE.ST 3058/2017 - P_5675 - Beatriz Reze...</td>\n",
       "      <td>1</td>\n",
       "    </tr>\n",
       "    <tr>\n",
       "      <th>170</th>\n",
       "      <td>MOD.CONLE.ST 2590/2017 - P_5675 - Beatriz Reze...</td>\n",
       "      <td>1</td>\n",
       "    </tr>\n",
       "    <tr>\n",
       "      <th>171</th>\n",
       "      <td>MOD.CONLE.ST 4764/2017 - P_6736 - Davi Ribeiro...</td>\n",
       "      <td>1</td>\n",
       "    </tr>\n",
       "  </tbody>\n",
       "</table>\n",
       "<p>172 rows × 2 columns</p>\n",
       "</div>"
      ],
      "text/plain": [
       "                                                 index  Autor\n",
       "0                                               P_4189     99\n",
       "1                                             Prodasen     98\n",
       "2                      Ricardo de Saboya Rocha Miranda     88\n",
       "3                              Ivanete de Araujo Costa     61\n",
       "4                                         Volia Cassar     50\n",
       "5                                Dep. Jeronimo Goergen     47\n",
       "6    MOD.CONLE.ST 2593/2017 - P_5675 - Beatriz Reze...     46\n",
       "7                        Amanda Galvão Ferreira Tabosa     45\n",
       "8                                               wlamir     38\n",
       "9                       Angelo Fabiano Farias da Costa     35\n",
       "10                                                Izar     31\n",
       "11                                            P_111067     30\n",
       "12                                              P_6394     27\n",
       "13                                               admin     27\n",
       "14                            Osmar de Oliveira Aguiar     21\n",
       "15                                       Administrador     20\n",
       "16                                      Evandro Macedo     20\n",
       "17                                      Estelita Gomes     19\n",
       "18                                            P_113101     19\n",
       "19                                             Ricardo     18\n",
       "20                                Elaine Marinho Faria     16\n",
       "21                                      Iraciara Souza     16\n",
       "22                                                User     16\n",
       "23                                      Adriano Beuren     15\n",
       "24                                       lucas.pereira     14\n",
       "25                                                 TST     14\n",
       "26                                   ELIZABETE AUGUSTA     12\n",
       "27             Antonio das Dores Pereira da Silva Neto     12\n",
       "28                                           p_ 119554     10\n",
       "29                               Gildete Menezes | NTC     10\n",
       "..                                                 ...    ...\n",
       "142                        Lisiane de Alcantara Bastos      1\n",
       "143  MOD.CONLE.ST 2457/2017 - P_5040 - Adolfo Costa...      1\n",
       "144                    Miralda da Conceição dos Santos      1\n",
       "145                                              Diogo      1\n",
       "146             Bruno Ávila e Silva Sampaio de Almeida      1\n",
       "147  MOD.CONLE.ST 2265/2017 - P_6736 - Davi Ribeiro...      1\n",
       "148                      Flávia Mundim Moraes Oliveira      1\n",
       "149                  Andrea Teresa de Oliveira Barbosa      1\n",
       "150  MOD.CONLE.ST 2115/2017 - P_5771 - Lisiane de A...      1\n",
       "151  MOD.CONLE.ST 2109/2017 - P_5675 - Beatriz Reze...      1\n",
       "152  MOD.CONLE.ST 2686/2017 - P_5771 - Lisiane de A...      1\n",
       "153  MOD.CONLE.ST 2239/2017 - P_6701 - Ângelo Azeve...      1\n",
       "154              Marina Cibele Dias Silverio e Fonseca      1\n",
       "155  MOD.CONLE.ST 4995/2017 - P_6736 - Davi Ribeiro...      1\n",
       "156                             Josué dos Santos Silva      1\n",
       "157                                Andre Luis De Paula      1\n",
       "158                                        SINDETRANDF      1\n",
       "159                              Patricia Alves Cabral      1\n",
       "160  MOD.CONLE.ST 2491/2017 - P_5675 - Beatriz Reze...      1\n",
       "161                       Ayres de Almeida Silva Filho      1\n",
       "162                                Dep. Laura Carneiro      1\n",
       "163  MOD.CONLE.ST 3032/2017 - P_5675 - Beatriz Reze...      1\n",
       "164  MOD.CONLE.ST 2117/2017 - P_6736 - Davi Ribeiro...      1\n",
       "165                                              Celio      1\n",
       "166  MOD.CONLE.ST 2386/2017 - P_5771 - Lisiane de A...      1\n",
       "167                                  Joao Paulo Santos      1\n",
       "168  MOD.CONLE.ST 2250/2017 - P_5771 - Lisiane de A...      1\n",
       "169  MOD.CONLE.ST 3058/2017 - P_5675 - Beatriz Reze...      1\n",
       "170  MOD.CONLE.ST 2590/2017 - P_5675 - Beatriz Reze...      1\n",
       "171  MOD.CONLE.ST 4764/2017 - P_6736 - Davi Ribeiro...      1\n",
       "\n",
       "[172 rows x 2 columns]"
      ]
     },
     "execution_count": 4,
     "metadata": {},
     "output_type": "execute_result"
    }
   ],
   "source": [
    "emd.Autor.value_counts().reset_index()"
   ]
  },
  {
   "cell_type": "code",
   "execution_count": null,
   "metadata": {
    "collapsed": true
   },
   "outputs": [],
   "source": []
  },
  {
   "cell_type": "markdown",
   "metadata": {},
   "source": [
    "### Filtros pelos cinco primeiros principais autores, com respectivos deputados"
   ]
  },
  {
   "cell_type": "code",
   "execution_count": 19,
   "metadata": {
    "collapsed": true
   },
   "outputs": [],
   "source": [
    "top_autores = emd.Autor.value_counts().reset_index().head(5)"
   ]
  },
  {
   "cell_type": "code",
   "execution_count": 20,
   "metadata": {},
   "outputs": [
    {
     "data": {
      "text/html": [
       "<div>\n",
       "<style>\n",
       "    .dataframe thead tr:only-child th {\n",
       "        text-align: right;\n",
       "    }\n",
       "\n",
       "    .dataframe thead th {\n",
       "        text-align: left;\n",
       "    }\n",
       "\n",
       "    .dataframe tbody tr th {\n",
       "        vertical-align: top;\n",
       "    }\n",
       "</style>\n",
       "<table border=\"1\" class=\"dataframe\">\n",
       "  <thead>\n",
       "    <tr style=\"text-align: right;\">\n",
       "      <th></th>\n",
       "      <th>index</th>\n",
       "      <th>Autor</th>\n",
       "    </tr>\n",
       "  </thead>\n",
       "  <tbody>\n",
       "    <tr>\n",
       "      <th>0</th>\n",
       "      <td>P_4189</td>\n",
       "      <td>99</td>\n",
       "    </tr>\n",
       "    <tr>\n",
       "      <th>1</th>\n",
       "      <td>Prodasen</td>\n",
       "      <td>98</td>\n",
       "    </tr>\n",
       "    <tr>\n",
       "      <th>2</th>\n",
       "      <td>Ricardo de Saboya Rocha Miranda</td>\n",
       "      <td>88</td>\n",
       "    </tr>\n",
       "    <tr>\n",
       "      <th>3</th>\n",
       "      <td>Ivanete de Araujo Costa</td>\n",
       "      <td>61</td>\n",
       "    </tr>\n",
       "    <tr>\n",
       "      <th>4</th>\n",
       "      <td>Volia Cassar</td>\n",
       "      <td>50</td>\n",
       "    </tr>\n",
       "  </tbody>\n",
       "</table>\n",
       "</div>"
      ],
      "text/plain": [
       "                             index  Autor\n",
       "0                           P_4189     99\n",
       "1                         Prodasen     98\n",
       "2  Ricardo de Saboya Rocha Miranda     88\n",
       "3          Ivanete de Araujo Costa     61\n",
       "4                     Volia Cassar     50"
      ]
     },
     "execution_count": 20,
     "metadata": {},
     "output_type": "execute_result"
    }
   ],
   "source": [
    "top_autores"
   ]
  },
  {
   "cell_type": "code",
   "execution_count": 13,
   "metadata": {},
   "outputs": [],
   "source": []
  },
  {
   "cell_type": "code",
   "execution_count": 23,
   "metadata": {
    "collapsed": true
   },
   "outputs": [],
   "source": [
    "primeiro = emd[emd.Autor == \"P_4189\"]"
   ]
  },
  {
   "cell_type": "code",
   "execution_count": 25,
   "metadata": {},
   "outputs": [
    {
     "data": {
      "text/html": [
       "<div>\n",
       "<style>\n",
       "    .dataframe thead tr:only-child th {\n",
       "        text-align: right;\n",
       "    }\n",
       "\n",
       "    .dataframe thead th {\n",
       "        text-align: left;\n",
       "    }\n",
       "\n",
       "    .dataframe tbody tr th {\n",
       "        vertical-align: top;\n",
       "    }\n",
       "</style>\n",
       "<table border=\"1\" class=\"dataframe\">\n",
       "  <thead>\n",
       "    <tr style=\"text-align: right;\">\n",
       "      <th></th>\n",
       "      <th>index</th>\n",
       "      <th>Deputado</th>\n",
       "    </tr>\n",
       "  </thead>\n",
       "  <tbody>\n",
       "    <tr>\n",
       "      <th>0</th>\n",
       "      <td>Mauro Lopes</td>\n",
       "      <td>22</td>\n",
       "    </tr>\n",
       "    <tr>\n",
       "      <th>1</th>\n",
       "      <td>Vanderlei Macris</td>\n",
       "      <td>20</td>\n",
       "    </tr>\n",
       "    <tr>\n",
       "      <th>2</th>\n",
       "      <td>Magda Mofatto</td>\n",
       "      <td>18</td>\n",
       "    </tr>\n",
       "    <tr>\n",
       "      <th>3</th>\n",
       "      <td>Gorete Pereira</td>\n",
       "      <td>11</td>\n",
       "    </tr>\n",
       "    <tr>\n",
       "      <th>4</th>\n",
       "      <td>Célio Silveira</td>\n",
       "      <td>10</td>\n",
       "    </tr>\n",
       "    <tr>\n",
       "      <th>5</th>\n",
       "      <td>Valdir Colatto</td>\n",
       "      <td>9</td>\n",
       "    </tr>\n",
       "    <tr>\n",
       "      <th>6</th>\n",
       "      <td>Arnaldo Jordy</td>\n",
       "      <td>8</td>\n",
       "    </tr>\n",
       "    <tr>\n",
       "      <th>7</th>\n",
       "      <td>Celso Maldaner</td>\n",
       "      <td>1</td>\n",
       "    </tr>\n",
       "  </tbody>\n",
       "</table>\n",
       "</div>"
      ],
      "text/plain": [
       "              index  Deputado\n",
       "0       Mauro Lopes        22\n",
       "1  Vanderlei Macris        20\n",
       "2     Magda Mofatto        18\n",
       "3    Gorete Pereira        11\n",
       "4    Célio Silveira        10\n",
       "5    Valdir Colatto         9\n",
       "6     Arnaldo Jordy         8\n",
       "7    Celso Maldaner         1"
      ]
     },
     "execution_count": 25,
     "metadata": {},
     "output_type": "execute_result"
    }
   ],
   "source": [
    "primeiro.Deputado.value_counts().reset_index()"
   ]
  },
  {
   "cell_type": "code",
   "execution_count": null,
   "metadata": {
    "collapsed": true
   },
   "outputs": [],
   "source": []
  },
  {
   "cell_type": "code",
   "execution_count": 26,
   "metadata": {
    "collapsed": true
   },
   "outputs": [],
   "source": [
    "segundo = emd[emd.Autor == \"Prodasen\"]"
   ]
  },
  {
   "cell_type": "code",
   "execution_count": 27,
   "metadata": {},
   "outputs": [
    {
     "data": {
      "text/html": [
       "<div>\n",
       "<style>\n",
       "    .dataframe thead tr:only-child th {\n",
       "        text-align: right;\n",
       "    }\n",
       "\n",
       "    .dataframe thead th {\n",
       "        text-align: left;\n",
       "    }\n",
       "\n",
       "    .dataframe tbody tr th {\n",
       "        vertical-align: top;\n",
       "    }\n",
       "</style>\n",
       "<table border=\"1\" class=\"dataframe\">\n",
       "  <thead>\n",
       "    <tr style=\"text-align: right;\">\n",
       "      <th></th>\n",
       "      <th>index</th>\n",
       "      <th>Deputado</th>\n",
       "    </tr>\n",
       "  </thead>\n",
       "  <tbody>\n",
       "    <tr>\n",
       "      <th>0</th>\n",
       "      <td>Chico Alencar</td>\n",
       "      <td>23</td>\n",
       "    </tr>\n",
       "    <tr>\n",
       "      <th>1</th>\n",
       "      <td>Sergio Vidigal</td>\n",
       "      <td>21</td>\n",
       "    </tr>\n",
       "    <tr>\n",
       "      <th>2</th>\n",
       "      <td>Arnaldo Jordy</td>\n",
       "      <td>19</td>\n",
       "    </tr>\n",
       "    <tr>\n",
       "      <th>3</th>\n",
       "      <td>Hissa Abrahão</td>\n",
       "      <td>9</td>\n",
       "    </tr>\n",
       "    <tr>\n",
       "      <th>4</th>\n",
       "      <td>Daniel Almeida</td>\n",
       "      <td>9</td>\n",
       "    </tr>\n",
       "    <tr>\n",
       "      <th>5</th>\n",
       "      <td>André Figueiredo</td>\n",
       "      <td>7</td>\n",
       "    </tr>\n",
       "    <tr>\n",
       "      <th>6</th>\n",
       "      <td>Chico Lopes</td>\n",
       "      <td>3</td>\n",
       "    </tr>\n",
       "    <tr>\n",
       "      <th>7</th>\n",
       "      <td>Orlando Silva</td>\n",
       "      <td>3</td>\n",
       "    </tr>\n",
       "    <tr>\n",
       "      <th>8</th>\n",
       "      <td>Jô Moraes</td>\n",
       "      <td>3</td>\n",
       "    </tr>\n",
       "    <tr>\n",
       "      <th>9</th>\n",
       "      <td>Luiza Erundina</td>\n",
       "      <td>1</td>\n",
       "    </tr>\n",
       "  </tbody>\n",
       "</table>\n",
       "</div>"
      ],
      "text/plain": [
       "              index  Deputado\n",
       "0     Chico Alencar        23\n",
       "1    Sergio Vidigal        21\n",
       "2     Arnaldo Jordy        19\n",
       "3     Hissa Abrahão         9\n",
       "4    Daniel Almeida         9\n",
       "5  André Figueiredo         7\n",
       "6       Chico Lopes         3\n",
       "7     Orlando Silva         3\n",
       "8         Jô Moraes         3\n",
       "9    Luiza Erundina         1"
      ]
     },
     "execution_count": 27,
     "metadata": {},
     "output_type": "execute_result"
    }
   ],
   "source": [
    "segundo.Deputado.value_counts().reset_index()"
   ]
  },
  {
   "cell_type": "code",
   "execution_count": null,
   "metadata": {
    "collapsed": true
   },
   "outputs": [],
   "source": []
  },
  {
   "cell_type": "code",
   "execution_count": 28,
   "metadata": {
    "collapsed": true
   },
   "outputs": [],
   "source": [
    "terceiro = emd[emd.Autor == \"Ricardo de Saboya Rocha Miranda\"]"
   ]
  },
  {
   "cell_type": "code",
   "execution_count": 29,
   "metadata": {},
   "outputs": [
    {
     "data": {
      "text/html": [
       "<div>\n",
       "<style>\n",
       "    .dataframe thead tr:only-child th {\n",
       "        text-align: right;\n",
       "    }\n",
       "\n",
       "    .dataframe thead th {\n",
       "        text-align: left;\n",
       "    }\n",
       "\n",
       "    .dataframe tbody tr th {\n",
       "        vertical-align: top;\n",
       "    }\n",
       "</style>\n",
       "<table border=\"1\" class=\"dataframe\">\n",
       "  <thead>\n",
       "    <tr style=\"text-align: right;\">\n",
       "      <th></th>\n",
       "      <th>index</th>\n",
       "      <th>Deputado</th>\n",
       "    </tr>\n",
       "  </thead>\n",
       "  <tbody>\n",
       "    <tr>\n",
       "      <th>0</th>\n",
       "      <td>Major Olimpio</td>\n",
       "      <td>26</td>\n",
       "    </tr>\n",
       "    <tr>\n",
       "      <th>1</th>\n",
       "      <td>Diego Andrade</td>\n",
       "      <td>22</td>\n",
       "    </tr>\n",
       "    <tr>\n",
       "      <th>2</th>\n",
       "      <td>Renzo Braz</td>\n",
       "      <td>19</td>\n",
       "    </tr>\n",
       "    <tr>\n",
       "      <th>3</th>\n",
       "      <td>Valdir Colatto</td>\n",
       "      <td>11</td>\n",
       "    </tr>\n",
       "    <tr>\n",
       "      <th>4</th>\n",
       "      <td>Lelo Coimbra</td>\n",
       "      <td>10</td>\n",
       "    </tr>\n",
       "  </tbody>\n",
       "</table>\n",
       "</div>"
      ],
      "text/plain": [
       "            index  Deputado\n",
       "0   Major Olimpio        26\n",
       "1   Diego Andrade        22\n",
       "2      Renzo Braz        19\n",
       "3  Valdir Colatto        11\n",
       "4    Lelo Coimbra        10"
      ]
     },
     "execution_count": 29,
     "metadata": {},
     "output_type": "execute_result"
    }
   ],
   "source": [
    "terceiro.Deputado.value_counts().reset_index()"
   ]
  },
  {
   "cell_type": "code",
   "execution_count": null,
   "metadata": {
    "collapsed": true
   },
   "outputs": [],
   "source": []
  },
  {
   "cell_type": "code",
   "execution_count": 30,
   "metadata": {
    "collapsed": true
   },
   "outputs": [],
   "source": [
    "quarto = emd[emd.Autor == \"Ivanete de Araujo Costa\"]"
   ]
  },
  {
   "cell_type": "code",
   "execution_count": 31,
   "metadata": {},
   "outputs": [
    {
     "data": {
      "text/html": [
       "<div>\n",
       "<style>\n",
       "    .dataframe thead tr:only-child th {\n",
       "        text-align: right;\n",
       "    }\n",
       "\n",
       "    .dataframe thead th {\n",
       "        text-align: left;\n",
       "    }\n",
       "\n",
       "    .dataframe tbody tr th {\n",
       "        vertical-align: top;\n",
       "    }\n",
       "</style>\n",
       "<table border=\"1\" class=\"dataframe\">\n",
       "  <thead>\n",
       "    <tr style=\"text-align: right;\">\n",
       "      <th></th>\n",
       "      <th>index</th>\n",
       "      <th>Deputado</th>\n",
       "    </tr>\n",
       "  </thead>\n",
       "  <tbody>\n",
       "    <tr>\n",
       "      <th>0</th>\n",
       "      <td>Benedita da Silva</td>\n",
       "      <td>12</td>\n",
       "    </tr>\n",
       "    <tr>\n",
       "      <th>1</th>\n",
       "      <td>Carlos Zarattini</td>\n",
       "      <td>12</td>\n",
       "    </tr>\n",
       "    <tr>\n",
       "      <th>2</th>\n",
       "      <td>Roberto Sales</td>\n",
       "      <td>11</td>\n",
       "    </tr>\n",
       "    <tr>\n",
       "      <th>3</th>\n",
       "      <td>Laura Carneiro</td>\n",
       "      <td>10</td>\n",
       "    </tr>\n",
       "    <tr>\n",
       "      <th>4</th>\n",
       "      <td>Celso Maldaner</td>\n",
       "      <td>8</td>\n",
       "    </tr>\n",
       "    <tr>\n",
       "      <th>5</th>\n",
       "      <td>Valdir Colatto</td>\n",
       "      <td>2</td>\n",
       "    </tr>\n",
       "    <tr>\n",
       "      <th>6</th>\n",
       "      <td>Marinaldo Rosendo</td>\n",
       "      <td>2</td>\n",
       "    </tr>\n",
       "    <tr>\n",
       "      <th>7</th>\n",
       "      <td>Diego Garcia</td>\n",
       "      <td>1</td>\n",
       "    </tr>\n",
       "    <tr>\n",
       "      <th>8</th>\n",
       "      <td>Herculano Passos</td>\n",
       "      <td>1</td>\n",
       "    </tr>\n",
       "    <tr>\n",
       "      <th>9</th>\n",
       "      <td>Waldenor Pereira</td>\n",
       "      <td>1</td>\n",
       "    </tr>\n",
       "    <tr>\n",
       "      <th>10</th>\n",
       "      <td>Danilo Cabral</td>\n",
       "      <td>1</td>\n",
       "    </tr>\n",
       "  </tbody>\n",
       "</table>\n",
       "</div>"
      ],
      "text/plain": [
       "                index  Deputado\n",
       "0   Benedita da Silva        12\n",
       "1    Carlos Zarattini        12\n",
       "2       Roberto Sales        11\n",
       "3      Laura Carneiro        10\n",
       "4      Celso Maldaner         8\n",
       "5      Valdir Colatto         2\n",
       "6   Marinaldo Rosendo         2\n",
       "7        Diego Garcia         1\n",
       "8    Herculano Passos         1\n",
       "9    Waldenor Pereira         1\n",
       "10      Danilo Cabral         1"
      ]
     },
     "execution_count": 31,
     "metadata": {},
     "output_type": "execute_result"
    }
   ],
   "source": [
    "quarto.Deputado.value_counts().reset_index()"
   ]
  },
  {
   "cell_type": "code",
   "execution_count": null,
   "metadata": {
    "collapsed": true
   },
   "outputs": [],
   "source": []
  },
  {
   "cell_type": "code",
   "execution_count": 32,
   "metadata": {
    "collapsed": true
   },
   "outputs": [],
   "source": [
    "quinto = emd[emd.Autor == \"Volia Cassar\"]"
   ]
  },
  {
   "cell_type": "code",
   "execution_count": 33,
   "metadata": {},
   "outputs": [
    {
     "data": {
      "text/html": [
       "<div>\n",
       "<style>\n",
       "    .dataframe thead tr:only-child th {\n",
       "        text-align: right;\n",
       "    }\n",
       "\n",
       "    .dataframe thead th {\n",
       "        text-align: left;\n",
       "    }\n",
       "\n",
       "    .dataframe tbody tr th {\n",
       "        vertical-align: top;\n",
       "    }\n",
       "</style>\n",
       "<table border=\"1\" class=\"dataframe\">\n",
       "  <thead>\n",
       "    <tr style=\"text-align: right;\">\n",
       "      <th></th>\n",
       "      <th>index</th>\n",
       "      <th>Deputado</th>\n",
       "    </tr>\n",
       "  </thead>\n",
       "  <tbody>\n",
       "    <tr>\n",
       "      <th>0</th>\n",
       "      <td>Laura Carneiro</td>\n",
       "      <td>37</td>\n",
       "    </tr>\n",
       "    <tr>\n",
       "      <th>1</th>\n",
       "      <td>Wadih Damous</td>\n",
       "      <td>13</td>\n",
       "    </tr>\n",
       "  </tbody>\n",
       "</table>\n",
       "</div>"
      ],
      "text/plain": [
       "            index  Deputado\n",
       "0  Laura Carneiro        37\n",
       "1    Wadih Damous        13"
      ]
     },
     "execution_count": 33,
     "metadata": {},
     "output_type": "execute_result"
    }
   ],
   "source": [
    "quinto.Deputado.value_counts().reset_index()"
   ]
  },
  {
   "cell_type": "code",
   "execution_count": null,
   "metadata": {
    "collapsed": true
   },
   "outputs": [],
   "source": []
  }
 ],
 "metadata": {
  "kernelspec": {
   "display_name": "Python 3",
   "language": "python",
   "name": "python3"
  },
  "language_info": {
   "codemirror_mode": {
    "name": "ipython",
    "version": 3
   },
   "file_extension": ".py",
   "mimetype": "text/x-python",
   "name": "python",
   "nbconvert_exporter": "python",
   "pygments_lexer": "ipython3",
   "version": "3.6.2"
  }
 },
 "nbformat": 4,
 "nbformat_minor": 2
}
